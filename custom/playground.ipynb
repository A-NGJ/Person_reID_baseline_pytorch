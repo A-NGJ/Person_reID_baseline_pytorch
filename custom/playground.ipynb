{
 "cells": [
  {
   "cell_type": "code",
   "execution_count": 1,
   "metadata": {},
   "outputs": [
    {
     "data": {
      "text/plain": [
       "{'__header__': b'MATLAB 5.0 MAT-file, Platform: PCWIN64, Created on: Tue Feb 23 21:09:28 2016',\n",
       " '__version__': '1.0',\n",
       " '__globals__': [],\n",
       " 'box_new': array([[  -2.        ,  193.98137153,  480.39800763,   49.3669103 ,\n",
       "          149.42472994],\n",
       "        [   3.        , 1024.64686825,  414.53887689,   48.98488121,\n",
       "          158.61771058]])}"
      ]
     },
     "execution_count": 1,
     "metadata": {},
     "output_type": "execute_result"
    }
   ],
   "source": [
    "from scipy.io import loadmat\n",
    "from pathlib import Path\n",
    "\n",
    "data_path = Path(\"/home/aleksandernagaj/Milestone/data/\")\n",
    "\n",
    "pytorch_result = loadmat(data_path / \"PRW-v16.04.20\" / \"annotations\" / \"c1s1_000151.jpg.mat\")\n",
    "\n",
    "pytorch_result"
   ]
  },
  {
   "cell_type": "code",
   "execution_count": 8,
   "metadata": {},
   "outputs": [
    {
     "name": "stderr",
     "output_type": "stream",
     "text": [
      "WARNING:root:bbox not found for c2s2_104957.jpg.mat\n",
      "WARNING:root:bbox not found for c1s3_032101.jpg.mat\n",
      "WARNING:root:bbox not found for c2s1_049776.jpg.mat\n",
      "WARNING:root:bbox not found for c6s1_036851.jpg.mat\n",
      "WARNING:root:bbox not found for c3s2_116644.jpg.mat\n",
      "WARNING:root:bbox not found for c1s3_054251.jpg.mat\n",
      "WARNING:root:bbox not found for c5s2_126174.jpg.mat\n",
      "WARNING:root:bbox not found for c3s2_120269.jpg.mat\n",
      "WARNING:root:bbox not found for c6s2_112243.jpg.mat\n",
      "WARNING:root:bbox not found for c2s2_105432.jpg.mat\n",
      "WARNING:root:bbox not found for c3s2_116194.jpg.mat\n",
      "WARNING:root:bbox not found for c5s2_028755.jpg.mat\n",
      "WARNING:root:bbox not found for c3s2_067378.jpg.mat\n",
      "WARNING:root:bbox not found for c1s2_006041.jpg.mat\n",
      "WARNING:root:bbox not found for c3s2_064078.jpg.mat\n",
      "WARNING:root:bbox not found for c5s2_121124.jpg.mat\n",
      "WARNING:root:bbox not found for c2s2_063707.jpg.mat\n",
      "WARNING:root:bbox not found for c2s2_104907.jpg.mat\n",
      "WARNING:root:bbox not found for c6s2_051218.jpg.mat\n",
      "WARNING:root:bbox not found for c2s2_122227.jpg.mat\n",
      "WARNING:root:bbox not found for c3s2_029412.jpg.mat\n",
      "WARNING:root:bbox not found for c2s2_105182.jpg.mat\n",
      "WARNING:root:bbox not found for c3s2_067303.jpg.mat\n",
      "WARNING:root:bbox not found for c2s2_105407.jpg.mat\n"
     ]
    }
   ],
   "source": [
    "from annot import (\n",
    "    Annotation,\n",
    "    Camera,\n",
    ")\n",
    "import re\n",
    "import cv2\n",
    "import logging\n",
    "\n",
    "bbox_annotations = []\n",
    "for annot in (data_path / \"PRW-v16.04.20\" / \"annotations\").glob(\"*mat\"):\n",
    "    mat = loadmat(annot)\n",
    "    if \"box_new\" not in mat:\n",
    "        logging.warning(\"bbox not found for %s\", annot.name)\n",
    "        continue\n",
    "\n",
    "    location = int(re.search(r\"(?<=s)\\d\", annot.name).group(0))\n",
    "    camera_n = int(re.search(r\"(?<=c)\\d\", annot.name).group(0))\n",
    "    sequence_n = int(annot.name.split(\"_\")[1].split(\".\")[0])\n",
    "\n",
    "    annotations = []\n",
    "    for bbox in mat[\"box_new\"]:\n",
    "        annotations.append(Annotation(\n",
    "            id_= int(round(bbox[0])),\n",
    "            bbox=tuple(int(round(b)) for b in bbox[1:]),\n",
    "            copy_id=True,\n",
    "        ))\n",
    "\n",
    "    camera = Camera(\n",
    "        image=cv2.imread(\n",
    "            str(\n",
    "                data_path / \"PRW-v16.04.20\" / \"frames\" / \n",
    "                \".\".join(annot.name.split(\".\")[:2])\n",
    "            )\n",
    "        ),\n",
    "        location=location,\n",
    "        n=camera_n,\n",
    "        sequence_n=sequence_n,\n",
    "        annotations=annotations\n",
    "    )\n",
    "    cropped = camera.crop_bbox()\n",
    "    for crop in cropped:\n",
    "        try:\n",
    "            crop.export_to_reid(data_path / \"PRW-v16.04.20\" / \"exported\")\n",
    "        except:\n",
    "            pass"
   ]
  },
  {
   "cell_type": "code",
   "execution_count": 1,
   "metadata": {},
   "outputs": [],
   "source": [
    "from annot import prepare_train_test_set, create_query_from_gallery\n",
    "from pathlib import Path\n",
    "\n",
    "data_path = Path(\"/home/aleksandernagaj/Milestone/data/PRW-v16.04.20\")\n",
    "\n",
    "# prepare_train_test_set(\n",
    "#     src=data_path / \"exported\",\n",
    "#     dst=data_path / \"pytorch\",\n",
    "#     val=True,\n",
    "# )\n",
    "create_query_from_gallery(\n",
    "    gallery_path=data_path / \"pytorch\" / \"gallery\",\n",
    "    query_path=data_path / \"pytorch\" / \"query\",\n",
    "    noise_dir=data_path / \"pytorch\" / \"gallery\" / \"00-2\",\n",
    "    backup=True,\n",
    ")"
   ]
  },
  {
   "cell_type": "code",
   "execution_count": null,
   "metadata": {},
   "outputs": [],
   "source": [
    "data_path = Path(\"/home/aleksandernagaj/Milestone/data/Milestone\")\n",
    "\n",
    "prepare_train_test_set(\n",
    "    src=data_path / \"exported\",\n",
    "    dst=data_path / \"pytorch\",\n",
    "    val=False,\n",
    "    train_size=0,\n",
    "    test_size=1,\n",
    ")"
   ]
  }
 ],
 "metadata": {
  "kernelspec": {
   "display_name": "base3.10",
   "language": "python",
   "name": "python3"
  },
  "language_info": {
   "codemirror_mode": {
    "name": "ipython",
    "version": 3
   },
   "file_extension": ".py",
   "mimetype": "text/x-python",
   "name": "python",
   "nbconvert_exporter": "python",
   "pygments_lexer": "ipython3",
   "version": "3.10.10"
  },
  "orig_nbformat": 4
 },
 "nbformat": 4,
 "nbformat_minor": 2
}
