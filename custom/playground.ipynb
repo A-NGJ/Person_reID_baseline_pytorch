{
 "cells": [
  {
   "cell_type": "code",
   "execution_count": 2,
   "metadata": {},
   "outputs": [
    {
     "data": {
      "text/plain": [
       "{'__header__': b'MATLAB 5.0 MAT-file Platform: posix, Created on: Thu Mar 16 13:34:40 2023',\n",
       " '__version__': '1.0',\n",
       " '__globals__': [],\n",
       " 'gallery_f': array([[ 0.00556454,  0.04589299,  0.01724695, ...,  0.11134594,\n",
       "         -0.03921181, -0.02453328],\n",
       "        [ 0.03158579,  0.05014115, -0.01442602, ...,  0.11348172,\n",
       "          0.0333238 , -0.03349413],\n",
       "        [ 0.05423865,  0.08545972,  0.02670871, ...,  0.06510425,\n",
       "          0.02819162, -0.00937978],\n",
       "        ...,\n",
       "        [ 0.09795539,  0.11336005, -0.09431969, ...,  0.03060464,\n",
       "         -0.05639343, -0.03466449],\n",
       "        [ 0.07561462,  0.09244677, -0.04668616, ...,  0.01470202,\n",
       "         -0.02031903, -0.03196152],\n",
       "        [ 0.07498889,  0.07028159, -0.0727989 , ..., -0.02903754,\n",
       "         -0.0321567 , -0.00037526]], dtype=float32),\n",
       " 'gallery_label': array([[ 1,  1,  1, ..., 18, 19, 19]]),\n",
       " 'gallery_cam': array([[1, 1, 1, ..., 2, 1, 1]]),\n",
       " 'query_f': array([[-0.02331403, -0.00470431, -0.00314464, ...,  0.1311092 ,\n",
       "         -0.01616445, -0.0075845 ],\n",
       "        [ 0.10470808,  0.00848577, -0.01739036, ...,  0.10086782,\n",
       "         -0.04070322,  0.02310139],\n",
       "        [-0.00504921,  0.08734337,  0.05520871, ...,  0.02340709,\n",
       "         -0.01377354, -0.0568946 ],\n",
       "        ...,\n",
       "        [-0.05601369, -0.00708324,  0.02462637, ...,  0.09671844,\n",
       "          0.00784174, -0.06838678],\n",
       "        [ 0.04549535,  0.05693192, -0.03195005, ...,  0.10709865,\n",
       "         -0.03109549, -0.06174442],\n",
       "        [ 0.08008259,  0.09340421, -0.05379638, ...,  0.01632828,\n",
       "         -0.00382292, -0.09261984]], dtype=float32),\n",
       " 'query_label': array([[ 1,  1,  2,  2,  3,  3,  4,  4,  5,  5,  6,  6,  7,  7,  8,  8,\n",
       "          9,  9, 10, 10, 11, 11, 12, 12, 13, 14, 14, 15, 16, 16, 17, 17,\n",
       "         18, 18, 19]]),\n",
       " 'query_cam': array([[1, 2, 1, 2, 1, 2, 1, 2, 1, 2, 1, 2, 1, 2, 1, 2, 1, 2, 1, 2, 1, 2,\n",
       "         1, 2, 1, 1, 2, 1, 1, 2, 1, 2, 1, 2, 1]])}"
      ]
     },
     "execution_count": 2,
     "metadata": {},
     "output_type": "execute_result"
    }
   ],
   "source": [
    "from scipy.io import loadmat\n",
    "\n",
    "pytorch_result = loadmat(\"../pytorch_result.mat\")\n",
    "\n",
    "pytorch_result"
   ]
  },
  {
   "cell_type": "code",
   "execution_count": 4,
   "metadata": {},
   "outputs": [
    {
     "name": "stdout",
     "output_type": "stream",
     "text": [
      "[0 1 2 3 4 5 6 7 8 9]\n",
      "[[0]\n",
      " [1]\n",
      " [2]\n",
      " [3]\n",
      " [4]\n",
      " [5]\n",
      " [6]\n",
      " [7]\n",
      " [8]\n",
      " [9]]\n"
     ]
    }
   ],
   "source": [
    "import numpy as np\n",
    "\n",
    "x = np.arange(10)\n",
    "print(x)\\\n",
    "\n",
    "x1 = np.argwhere(x==x)\n",
    "print(x1)"
   ]
  }
 ],
 "metadata": {
  "kernelspec": {
   "display_name": "base3.10",
   "language": "python",
   "name": "python3"
  },
  "language_info": {
   "codemirror_mode": {
    "name": "ipython",
    "version": 3
   },
   "file_extension": ".py",
   "mimetype": "text/x-python",
   "name": "python",
   "nbconvert_exporter": "python",
   "pygments_lexer": "ipython3",
   "version": "3.10.10"
  },
  "orig_nbformat": 4
 },
 "nbformat": 4,
 "nbformat_minor": 2
}
