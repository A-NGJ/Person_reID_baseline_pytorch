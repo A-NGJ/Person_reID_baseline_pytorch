{
 "cells": [
  {
   "cell_type": "code",
   "execution_count": 7,
   "metadata": {},
   "outputs": [],
   "source": [
    "from pathlib import Path\n",
    "import re\n",
    "import shutil\n",
    "\n",
    "from annot import img_by_person_id\n",
    "\n",
    "data_path = Path(\"/home/aleksandernagaj/Milestone/data/underground_reid\")\n",
    "\n",
    "# Rename all images to format: 0001_c1_0001.jpg\n",
    "# for img in data_path.glob(\"*.jpg\"):\n",
    "#     person_id, camera_id, seq_id = re.search(r\"p(\\d+)_s(\\d+)_(\\d+)\", img.name).groups()\n",
    "#     img.rename(img.parent / f\"{int(person_id):0>4d}_c{int(camera_id)}_{int(seq_id):0>4d}.jpg\")"
   ]
  },
  {
   "cell_type": "code",
   "execution_count": 8,
   "metadata": {},
   "outputs": [],
   "source": [
    "people = img_by_person_id(data_path / \"query\", \"*.jpeg\")\n",
    "\n",
    "for person_id, camera_id in people.items():\n",
    "    # create a directory for each person id with zero padding to 4 digits\n",
    "    person_dir = data_path / \"query\" / f\"{person_id:04d}\"\n",
    "    person_dir.mkdir(exist_ok=True)\n",
    "    # copy all images to the new directory, keeping the original files\n",
    "    for _, images in camera_id.items():\n",
    "        for image in images:\n",
    "            shutil.copy(image, person_dir / image.name)\n",
    " "
   ]
  }
 ],
 "metadata": {
  "kernelspec": {
   "display_name": "base3.10",
   "language": "python",
   "name": "python3"
  },
  "language_info": {
   "codemirror_mode": {
    "name": "ipython",
    "version": 3
   },
   "file_extension": ".py",
   "mimetype": "text/x-python",
   "name": "python",
   "nbconvert_exporter": "python",
   "pygments_lexer": "ipython3",
   "version": "3.10.10"
  },
  "orig_nbformat": 4
 },
 "nbformat": 4,
 "nbformat_minor": 2
}
