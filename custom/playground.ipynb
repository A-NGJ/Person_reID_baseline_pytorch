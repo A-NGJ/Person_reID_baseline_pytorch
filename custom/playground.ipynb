{
 "cells": [
  {
   "cell_type": "code",
   "execution_count": 10,
   "metadata": {},
   "outputs": [
    {
     "ename": "StopIteration",
     "evalue": "",
     "output_type": "error",
     "traceback": [
      "\u001b[0;31m---------------------------------------------------------------------------\u001b[0m",
      "\u001b[0;31mStopIteration\u001b[0m                             Traceback (most recent call last)",
      "Cell \u001b[0;32mIn[10], line 8\u001b[0m\n\u001b[1;32m      5\u001b[0m \u001b[39mfrom\u001b[39;00m \u001b[39mannot\u001b[39;00m \u001b[39mimport\u001b[39;00m img_by_person_id\n\u001b[1;32m      7\u001b[0m data_path \u001b[39m=\u001b[39m Path(\u001b[39m\"\u001b[39m\u001b[39m/home/aleksandernagaj/Milestone/data/underground_reid\u001b[39m\u001b[39m\"\u001b[39m)\n\u001b[0;32m----> 8\u001b[0m \u001b[39mprint\u001b[39m(\u001b[39mnext\u001b[39;49m(data_path\u001b[39m.\u001b[39;49mglob(\u001b[39m\"\u001b[39;49m\u001b[39m**/*.jp\u001b[39;49m\u001b[39m\"\u001b[39;49m)))\n\u001b[1;32m     10\u001b[0m \u001b[39m# people = img_by_person_id(data_path / \"gallery\", extension=\"jpeg\")\u001b[39;00m\n",
      "\u001b[0;31mStopIteration\u001b[0m: "
     ]
    }
   ],
   "source": [
    "from pathlib import Path\n",
    "import re\n",
    "import shutil\n",
    "\n",
    "from annot import img_by_person_id\n",
    "\n",
    "data_path = Path(\"/home/aleksandernagaj/Milestone/data/underground_reid\")\n",
    "print(next(data_path.glob(\"**/*.jp\")))\n",
    "\n",
    "# people = img_by_person_id(data_path / \"gallery\", extension=\"jpeg\")"
   ]
  },
  {
   "cell_type": "code",
   "execution_count": 5,
   "metadata": {},
   "outputs": [],
   "source": [
    "for person_id, camera_id in people.items():\n",
    "    # create a directory for each person id with zero padding to 4 digits\n",
    "    person_dir = data_path / \"gallery\" / f\"{person_id:04d}\"\n",
    "    person_dir.mkdir(exist_ok=True)\n",
    "    # copy all images to the new directory, keeping the original files\n",
    "    for _, images in camera_id.items():\n",
    "        for image in images:\n",
    "            shutil.copy(image, person_dir / image.name)\n",
    " "
   ]
  }
 ],
 "metadata": {
  "kernelspec": {
   "display_name": "base3.10",
   "language": "python",
   "name": "python3"
  },
  "language_info": {
   "codemirror_mode": {
    "name": "ipython",
    "version": 3
   },
   "file_extension": ".py",
   "mimetype": "text/x-python",
   "name": "python",
   "nbconvert_exporter": "python",
   "pygments_lexer": "ipython3",
   "version": "3.10.10"
  },
  "orig_nbformat": 4
 },
 "nbformat": 4,
 "nbformat_minor": 2
}
