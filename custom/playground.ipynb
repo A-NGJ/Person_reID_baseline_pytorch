{
 "cells": [
  {
   "cell_type": "code",
   "execution_count": 10,
   "metadata": {},
   "outputs": [],
   "source": [
    "from pathlib import Path\n",
    "import shutil\n",
    "import re\n",
    "\n",
    "data_path = Path(\"/home/aleksandernagaj/Milestone/data/LS-VID\")\n",
    "exported_path = data_path / \"exported_large\"\n",
    "if not exported_path.exists():\n",
    "    exported_path.mkdir()\n",
    "\n",
    "max_person_id = 0\n",
    "for subset in [\"train\", \"test\", \"val\"]:\n",
    "    max_subset_person_id = 0\n",
    "    # iterate over directories in data path\n",
    "    for person_id in (data_path / f\"tracklet_{subset}\").iterdir():\n",
    "        # iterate over files in person directory\n",
    "        for img in person_id.iterdir():\n",
    "            im_split = img.name.split(\"_\")\n",
    "            camera_id = int(im_split[0])\n",
    "            sequence_n = int(im_split[1])\n",
    "            if sequence_n % 10 != 0:\n",
    "                continue\n",
    "\n",
    "            daytime = re.search(r\"[a-z]+\", im_split[-1])\n",
    "            if daytime:\n",
    "                daytime = daytime.group(0)\n",
    "                match daytime:\n",
    "                    case \"noon\":\n",
    "                        sequence_n += 1000\n",
    "                    case \"afternoon\":\n",
    "                        sequence_n += 2000\n",
    "            \n",
    "            person_id_int = int(person_id.name) + max_person_id\n",
    "            if person_id_int > max_subset_person_id:\n",
    "                max_subset_person_id = person_id_int\n",
    "            \n",
    "            # save the file in 0001_c1_0000.jpg format in the exported directory\n",
    "            new_name = f\"{person_id_int:0>4d}_c{camera_id}_{sequence_n:0>4d}.jpg\"\n",
    "            # copy file to exported_test/person_id directory\n",
    "            shutil.copy(img, exported_path / new_name)\n",
    "    max_person_id = max_subset_person_id"
   ]
  },
  {
   "cell_type": "code",
   "execution_count": 13,
   "metadata": {},
   "outputs": [],
   "source": [
    "data_path = Path(\"/home/aleksandernagaj/Milestone/data/lsvid_large_prw_market\")\n",
    "data_test_dir = data_path / \"test\"\n",
    "data_test_dir.mkdir(exist_ok=True)\n",
    "\n",
    "for gallery_dir, query_dir in zip((data_path / \"gallery\").iterdir(), (data_path / \"query\").iterdir()):\n",
    "    if not (data_test_dir / gallery_dir.name).exists():\n",
    "        (data_test_dir / gallery_dir.name).mkdir()\n",
    "    if not (data_test_dir / query_dir.name).exists():\n",
    "        (data_test_dir / query_dir.name).mkdir()\n",
    "    \n",
    "    # move gallery and query images to corresponding test directory\n",
    "    for img in gallery_dir.iterdir():\n",
    "        shutil.move(img, data_test_dir / gallery_dir.name / img.name)\n",
    "    for img in query_dir.iterdir():\n",
    "        shutil.move(img, data_test_dir / query_dir.name / img.name)"
   ]
  },
  {
   "cell_type": "code",
   "execution_count": 15,
   "metadata": {},
   "outputs": [],
   "source": [
    "for test_dir in data_test_dir.iterdir():\n",
    "    if (data_path / \"train\" / data_test_dir.name).exists():\n",
    "        print(f\"Directory {data_test_dir.name} already exists in train directory\")\n",
    "        continue\n",
    "\n",
    "    shutil.copytree(test_dir, data_path / \"train\" / test_dir.name)"
   ]
  },
  {
   "cell_type": "code",
   "execution_count": 14,
   "metadata": {},
   "outputs": [],
   "source": [
    "data_path = Path(\"/home/aleksandernagaj/Milestone/data/LS-VID/exported_train\")\n",
    "concat_path = Path(\"/home/aleksandernagaj/Milestone/data/LS-VID/concat\")\n",
    "\n",
    "for im in data_path.glob(\"**/*.jpg\"):\n",
    "    shutil.copy(im, concat_path / im.name)"
   ]
  },
  {
   "cell_type": "code",
   "execution_count": 8,
   "metadata": {},
   "outputs": [],
   "source": [
    "people = img_by_person_id(data_path / \"query\", \"*.jpeg\")\n",
    "\n",
    "for person_id, camera_id in people.items():\n",
    "    # create a directory for each person id with zero padding to 4 digits\n",
    "    person_dir = data_path / \"query\" / f\"{person_id:04d}\"\n",
    "    person_dir.mkdir(exist_ok=True)\n",
    "    # copy all images to the new directory, keeping the original files\n",
    "    for _, images in camera_id.items():\n",
    "        for image in images:\n",
    "            shutil.copy(image, person_dir / image.name)\n",
    " "
   ]
  }
 ],
 "metadata": {
  "kernelspec": {
   "display_name": "base3.10",
   "language": "python",
   "name": "python3"
  },
  "language_info": {
   "codemirror_mode": {
    "name": "ipython",
    "version": 3
   },
   "file_extension": ".py",
   "mimetype": "text/x-python",
   "name": "python",
   "nbconvert_exporter": "python",
   "pygments_lexer": "ipython3",
   "version": "3.10.10"
  },
  "orig_nbformat": 4
 },
 "nbformat": 4,
 "nbformat_minor": 2
}
