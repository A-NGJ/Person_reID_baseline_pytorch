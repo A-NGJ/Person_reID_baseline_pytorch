{
 "cells": [
  {
   "cell_type": "code",
   "execution_count": 31,
   "metadata": {},
   "outputs": [],
   "source": [
    "from pathlib import Path\n",
    "import shutil\n",
    "import re\n",
    "\n",
    "data_path = Path(\"/home/aleksandernagaj/Milestone/data/LS-VID\")\n",
    "subset = \"test\"\n",
    "if not (data_path / f\"exported_{subset}\").exists():\n",
    "    (data_path / f\"exported_{subset}\").mkdir()\n",
    "\n",
    "# iterate over directories in data path\n",
    "for person_id in (data_path / f\"tracklet_{subset}\").iterdir():\n",
    "    # iterate over files in person directory\n",
    "    for img in person_id.iterdir():\n",
    "        im_split = img.name.split(\"_\")\n",
    "        camera_id = int(im_split[0])\n",
    "        sequence_n = int(im_split[1])\n",
    "        if sequence_n % 10 != 0:\n",
    "            continue\n",
    "\n",
    "        daytime = re.search(r\"[a-z]+\", im_split[-1])\n",
    "        if daytime:\n",
    "            daytime = daytime.group(0)\n",
    "            match daytime:\n",
    "                case \"noon\":\n",
    "                    sequence_n += 1000\n",
    "                case \"afternoon\":\n",
    "                    sequence_n += 2000\n",
    "        \n",
    "        # save the file in 0001_c1_0000.jpg format in the exported_test directory\n",
    "        new_name = f\"{person_id.name}_c{camera_id}_{sequence_n:0>4d}.jpg\"\n",
    "        # copy file to exported_test/person_id directory\n",
    "        if not (data_path / f\"exported_{subset}\" / person_id.name).exists():\n",
    "            (data_path / f\"exported_{subset}\" / person_id.name).mkdir()\n",
    "        shutil.copy(img, data_path / f\"exported_{subset}\" / person_id.name / new_name)"
   ]
  },
  {
   "cell_type": "code",
   "execution_count": 13,
   "metadata": {},
   "outputs": [],
   "source": [
    "subset = \"val\"\n",
    "for im in (data_path / f\"exported_{subset}\").glob(\"**/*.jpg\"):\n",
    "    sequence_n = im.name.split(\".\")[0].split(\"_\")[-1].lstrip(\"0\")\n",
    "    if sequence_n == \"\":\n",
    "        continue\n",
    "    if int(sequence_n) % 30 != 0:\n",
    "        im.unlink()"
   ]
  },
  {
   "cell_type": "code",
   "execution_count": 14,
   "metadata": {},
   "outputs": [],
   "source": [
    "data_path = Path(\"/home/aleksandernagaj/Milestone/data/LS-VID/train\")\n",
    "concat_path = Path(\"/home/aleksandernagaj/Milestone/data/LS-VID/concat\")\n",
    "\n",
    "for im in data_path.glob(\"**/*.jpg\"):\n",
    "    shutil.copy(im, concat_path / im.name)"
   ]
  },
  {
   "cell_type": "code",
   "execution_count": 8,
   "metadata": {},
   "outputs": [],
   "source": [
    "people = img_by_person_id(data_path / \"query\", \"*.jpeg\")\n",
    "\n",
    "for person_id, camera_id in people.items():\n",
    "    # create a directory for each person id with zero padding to 4 digits\n",
    "    person_dir = data_path / \"query\" / f\"{person_id:04d}\"\n",
    "    person_dir.mkdir(exist_ok=True)\n",
    "    # copy all images to the new directory, keeping the original files\n",
    "    for _, images in camera_id.items():\n",
    "        for image in images:\n",
    "            shutil.copy(image, person_dir / image.name)\n",
    " "
   ]
  }
 ],
 "metadata": {
  "kernelspec": {
   "display_name": "base3.10",
   "language": "python",
   "name": "python3"
  },
  "language_info": {
   "codemirror_mode": {
    "name": "ipython",
    "version": 3
   },
   "file_extension": ".py",
   "mimetype": "text/x-python",
   "name": "python",
   "nbconvert_exporter": "python",
   "pygments_lexer": "ipython3",
   "version": "3.10.10"
  },
  "orig_nbformat": 4
 },
 "nbformat": 4,
 "nbformat_minor": 2
}
